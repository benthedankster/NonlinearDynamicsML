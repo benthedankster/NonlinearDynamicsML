{
 "cells": [
  {
   "cell_type": "code",
   "execution_count": 1,
   "id": "a3884baf",
   "metadata": {},
   "outputs": [],
   "source": [
    "import numpy as np\n",
    "from scipy.integrate import odeint\n",
    "import matplotlib.pyplot as plt"
   ]
  },
  {
   "cell_type": "code",
   "execution_count": null,
   "id": "e28f7501",
   "metadata": {},
   "outputs": [],
   "source": [
    "# Generating system parameters\n",
    "m = np.random.uniform(.1,.25) # mass\n",
    "c1 = np.random.uniform(.1,1) # damper attached to mass\n",
    "k1 = np.random.uniform(10,100) # spring attached to mass\n",
    "a = np.random.uniform(10,50) # force amplitude\n",
    "w = np.random.uniform(1,20) # force wavelength\n",
    "k2 = np.random.uniform(k1,4*k1) # second spring\n",
    "d = np.random.uniform(0,a/k1) # distance from x=0 to the second spring\n",
    "\n",
    "time = np.arange(0,3.14,.02)\n",
    "\n",
    "# Defining, solving, and graphing the DE:\n",
    "\n",
    "def F_nonlinear(t):\n",
    "    return a*np.sin(w*t)\n",
    "\n",
    "def MCKK(x,t):\n",
    "    dx1dt = x[1]\n",
    "    dx2dt = F_nonlinear(t) - (c1*x[1] + np.heaviside(x[0]-d,1)*k2*(x[0]-d) - k1*x[0])/m\n",
    "    dxdt = [dx1dt,dx2dt]\n",
    "    \n",
    "    return dxdt\n",
    "\n",
    "x = odeint(MCKK,[0,0],time)\n",
    "    \n",
    "x1 = x[:,0]\n",
    "x2 = x[:,1]\n",
    "\n",
    "plt.plot(time,x1)\n",
    "plt.plot(time,x2)\n",
    "plt.title('I do not understand why this only works sometimes')\n",
    "plt.legend(['Position','Velocity'])\n",
    "plt.xlabel('Time')\n",
    "plt.show()\n",
    "\n",
    "f'd= {round(d,2)}, m = {round(m,2)}, c1 = {round(c1,2)}, k1 = {round(k1,2)}, k2 = {round(k2,2)}, F = {round(a,2)}*sin({round(w,2)}t)'"
   ]
  },
  {
   "cell_type": "code",
   "execution_count": null,
   "id": "9dd18328",
   "metadata": {},
   "outputs": [],
   "source": []
  }
 ],
 "metadata": {
  "kernelspec": {
   "display_name": "Python 3",
   "language": "python",
   "name": "python3"
  },
  "language_info": {
   "codemirror_mode": {
    "name": "ipython",
    "version": 3
   },
   "file_extension": ".py",
   "mimetype": "text/x-python",
   "name": "python",
   "nbconvert_exporter": "python",
   "pygments_lexer": "ipython3",
   "version": "3.8.8"
  }
 },
 "nbformat": 4,
 "nbformat_minor": 5
}
